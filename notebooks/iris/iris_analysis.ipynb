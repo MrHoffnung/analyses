{
 "cells": [
  {
   "metadata": {},
   "cell_type": "markdown",
   "source": "**Fragestellung:** Wie unterscheiden sich die drei Iris-Arten (Iris setosa, Iris versicolor und Iris virginica) in Bezug auf die vier gemessenen Merkmale (Kelchblattlänge, Kelchblattbreite, Kronblattlänge und Kronblattbreite)?",
   "id": "4d0f79571ec96f8"
  },
  {
   "cell_type": "code",
   "id": "initial_id",
   "metadata": {
    "ExecuteTime": {
     "end_time": "2024-06-16T15:00:56.163383Z",
     "start_time": "2024-06-16T15:00:56.144978Z"
    }
   },
   "source": [
    "# Importing modules\n",
    "\n",
    "import numpy as np\n",
    "import pandas as pd\n",
    "import seaborn as sns\n",
    "import matplotlib.pyplot as plt\n",
    "%matplotlib inline"
   ],
   "outputs": [],
   "execution_count": 3
  },
  {
   "cell_type": "code",
   "id": "1ce166b7cef17cb5",
   "metadata": {
    "ExecuteTime": {
     "end_time": "2024-06-16T15:00:56.326486Z",
     "start_time": "2024-06-16T15:00:56.306691Z"
    }
   },
   "source": [
    "# Loading the dataframe\n",
    "\n",
    "iris_data = pd.read_csv(\"data/iris.csv\")"
   ],
   "outputs": [],
   "execution_count": 4
  },
  {
   "metadata": {},
   "cell_type": "markdown",
   "source": "## Getting An Overview",
   "id": "ba88cf0ef839f200"
  },
  {
   "metadata": {
    "ExecuteTime": {
     "end_time": "2024-06-16T15:00:56.344626Z",
     "start_time": "2024-06-16T15:00:56.327498Z"
    }
   },
   "cell_type": "code",
   "source": [
    "# Taking a look at the head\n",
    "\n",
    "iris_data.head()"
   ],
   "id": "daff1dd6f715600f",
   "outputs": [
    {
     "data": {
      "text/plain": [
       "   sepal_length  sepal_width  petal_length  petal_width species\n",
       "0           5.1          3.5           1.4          0.2  setosa\n",
       "1           4.9          3.0           1.4          0.2  setosa\n",
       "2           4.7          3.2           1.3          0.2  setosa\n",
       "3           4.6          3.1           1.5          0.2  setosa\n",
       "4           5.0          3.6           1.4          0.2  setosa"
      ],
      "text/html": [
       "<div>\n",
       "<style scoped>\n",
       "    .dataframe tbody tr th:only-of-type {\n",
       "        vertical-align: middle;\n",
       "    }\n",
       "\n",
       "    .dataframe tbody tr th {\n",
       "        vertical-align: top;\n",
       "    }\n",
       "\n",
       "    .dataframe thead th {\n",
       "        text-align: right;\n",
       "    }\n",
       "</style>\n",
       "<table border=\"1\" class=\"dataframe\">\n",
       "  <thead>\n",
       "    <tr style=\"text-align: right;\">\n",
       "      <th></th>\n",
       "      <th>sepal_length</th>\n",
       "      <th>sepal_width</th>\n",
       "      <th>petal_length</th>\n",
       "      <th>petal_width</th>\n",
       "      <th>species</th>\n",
       "    </tr>\n",
       "  </thead>\n",
       "  <tbody>\n",
       "    <tr>\n",
       "      <th>0</th>\n",
       "      <td>5.1</td>\n",
       "      <td>3.5</td>\n",
       "      <td>1.4</td>\n",
       "      <td>0.2</td>\n",
       "      <td>setosa</td>\n",
       "    </tr>\n",
       "    <tr>\n",
       "      <th>1</th>\n",
       "      <td>4.9</td>\n",
       "      <td>3.0</td>\n",
       "      <td>1.4</td>\n",
       "      <td>0.2</td>\n",
       "      <td>setosa</td>\n",
       "    </tr>\n",
       "    <tr>\n",
       "      <th>2</th>\n",
       "      <td>4.7</td>\n",
       "      <td>3.2</td>\n",
       "      <td>1.3</td>\n",
       "      <td>0.2</td>\n",
       "      <td>setosa</td>\n",
       "    </tr>\n",
       "    <tr>\n",
       "      <th>3</th>\n",
       "      <td>4.6</td>\n",
       "      <td>3.1</td>\n",
       "      <td>1.5</td>\n",
       "      <td>0.2</td>\n",
       "      <td>setosa</td>\n",
       "    </tr>\n",
       "    <tr>\n",
       "      <th>4</th>\n",
       "      <td>5.0</td>\n",
       "      <td>3.6</td>\n",
       "      <td>1.4</td>\n",
       "      <td>0.2</td>\n",
       "      <td>setosa</td>\n",
       "    </tr>\n",
       "  </tbody>\n",
       "</table>\n",
       "</div>"
      ]
     },
     "execution_count": 5,
     "metadata": {},
     "output_type": "execute_result"
    }
   ],
   "execution_count": 5
  },
  {
   "metadata": {
    "ExecuteTime": {
     "end_time": "2024-06-16T15:00:56.360895Z",
     "start_time": "2024-06-16T15:00:56.353144Z"
    }
   },
   "cell_type": "code",
   "source": [
    "# Taking a look at the tail\n",
    "\n",
    "iris_data.tail()"
   ],
   "id": "ae5747179ae8c4cb",
   "outputs": [
    {
     "data": {
      "text/plain": [
       "     sepal_length  sepal_width  petal_length  petal_width    species\n",
       "145           6.7          3.0           5.2          2.3  virginica\n",
       "146           6.3          2.5           5.0          1.9  virginica\n",
       "147           6.5          3.0           5.2          2.0  virginica\n",
       "148           6.2          3.4           5.4          2.3  virginica\n",
       "149           5.9          3.0           5.1          1.8  virginica"
      ],
      "text/html": [
       "<div>\n",
       "<style scoped>\n",
       "    .dataframe tbody tr th:only-of-type {\n",
       "        vertical-align: middle;\n",
       "    }\n",
       "\n",
       "    .dataframe tbody tr th {\n",
       "        vertical-align: top;\n",
       "    }\n",
       "\n",
       "    .dataframe thead th {\n",
       "        text-align: right;\n",
       "    }\n",
       "</style>\n",
       "<table border=\"1\" class=\"dataframe\">\n",
       "  <thead>\n",
       "    <tr style=\"text-align: right;\">\n",
       "      <th></th>\n",
       "      <th>sepal_length</th>\n",
       "      <th>sepal_width</th>\n",
       "      <th>petal_length</th>\n",
       "      <th>petal_width</th>\n",
       "      <th>species</th>\n",
       "    </tr>\n",
       "  </thead>\n",
       "  <tbody>\n",
       "    <tr>\n",
       "      <th>145</th>\n",
       "      <td>6.7</td>\n",
       "      <td>3.0</td>\n",
       "      <td>5.2</td>\n",
       "      <td>2.3</td>\n",
       "      <td>virginica</td>\n",
       "    </tr>\n",
       "    <tr>\n",
       "      <th>146</th>\n",
       "      <td>6.3</td>\n",
       "      <td>2.5</td>\n",
       "      <td>5.0</td>\n",
       "      <td>1.9</td>\n",
       "      <td>virginica</td>\n",
       "    </tr>\n",
       "    <tr>\n",
       "      <th>147</th>\n",
       "      <td>6.5</td>\n",
       "      <td>3.0</td>\n",
       "      <td>5.2</td>\n",
       "      <td>2.0</td>\n",
       "      <td>virginica</td>\n",
       "    </tr>\n",
       "    <tr>\n",
       "      <th>148</th>\n",
       "      <td>6.2</td>\n",
       "      <td>3.4</td>\n",
       "      <td>5.4</td>\n",
       "      <td>2.3</td>\n",
       "      <td>virginica</td>\n",
       "    </tr>\n",
       "    <tr>\n",
       "      <th>149</th>\n",
       "      <td>5.9</td>\n",
       "      <td>3.0</td>\n",
       "      <td>5.1</td>\n",
       "      <td>1.8</td>\n",
       "      <td>virginica</td>\n",
       "    </tr>\n",
       "  </tbody>\n",
       "</table>\n",
       "</div>"
      ]
     },
     "execution_count": 6,
     "metadata": {},
     "output_type": "execute_result"
    }
   ],
   "execution_count": 6
  },
  {
   "metadata": {
    "ExecuteTime": {
     "end_time": "2024-06-16T15:00:56.448338Z",
     "start_time": "2024-06-16T15:00:56.441987Z"
    }
   },
   "cell_type": "code",
   "source": [
    "# Taking a look at the data types\n",
    "\n",
    "iris_data.dtypes"
   ],
   "id": "f849bb123292636b",
   "outputs": [
    {
     "data": {
      "text/plain": [
       "sepal_length    float64\n",
       "sepal_width     float64\n",
       "petal_length    float64\n",
       "petal_width     float64\n",
       "species          object\n",
       "dtype: object"
      ]
     },
     "execution_count": 7,
     "metadata": {},
     "output_type": "execute_result"
    }
   ],
   "execution_count": 7
  },
  {
   "metadata": {
    "ExecuteTime": {
     "end_time": "2024-06-16T15:00:56.500818Z",
     "start_time": "2024-06-16T15:00:56.496411Z"
    }
   },
   "cell_type": "code",
   "source": [
    "# Taking a look at the shape\n",
    "\n",
    "iris_data.shape"
   ],
   "id": "fdc1dd26a8a3bdb9",
   "outputs": [
    {
     "data": {
      "text/plain": [
       "(150, 5)"
      ]
     },
     "execution_count": 8,
     "metadata": {},
     "output_type": "execute_result"
    }
   ],
   "execution_count": 8
  },
  {
   "metadata": {
    "ExecuteTime": {
     "end_time": "2024-06-16T15:00:56.620229Z",
     "start_time": "2024-06-16T15:00:56.601383Z"
    }
   },
   "cell_type": "code",
   "source": [
    "# Taking a look at some basic descriptive statistics\n",
    "\n",
    "iris_data.describe()"
   ],
   "id": "45f539334d4aa600",
   "outputs": [
    {
     "data": {
      "text/plain": [
       "       sepal_length  sepal_width  petal_length  petal_width\n",
       "count    150.000000   150.000000    150.000000   150.000000\n",
       "mean       5.843333     3.054000      3.758667     1.198667\n",
       "std        0.828066     0.433594      1.764420     0.763161\n",
       "min        4.300000     2.000000      1.000000     0.100000\n",
       "25%        5.100000     2.800000      1.600000     0.300000\n",
       "50%        5.800000     3.000000      4.350000     1.300000\n",
       "75%        6.400000     3.300000      5.100000     1.800000\n",
       "max        7.900000     4.400000      6.900000     2.500000"
      ],
      "text/html": [
       "<div>\n",
       "<style scoped>\n",
       "    .dataframe tbody tr th:only-of-type {\n",
       "        vertical-align: middle;\n",
       "    }\n",
       "\n",
       "    .dataframe tbody tr th {\n",
       "        vertical-align: top;\n",
       "    }\n",
       "\n",
       "    .dataframe thead th {\n",
       "        text-align: right;\n",
       "    }\n",
       "</style>\n",
       "<table border=\"1\" class=\"dataframe\">\n",
       "  <thead>\n",
       "    <tr style=\"text-align: right;\">\n",
       "      <th></th>\n",
       "      <th>sepal_length</th>\n",
       "      <th>sepal_width</th>\n",
       "      <th>petal_length</th>\n",
       "      <th>petal_width</th>\n",
       "    </tr>\n",
       "  </thead>\n",
       "  <tbody>\n",
       "    <tr>\n",
       "      <th>count</th>\n",
       "      <td>150.000000</td>\n",
       "      <td>150.000000</td>\n",
       "      <td>150.000000</td>\n",
       "      <td>150.000000</td>\n",
       "    </tr>\n",
       "    <tr>\n",
       "      <th>mean</th>\n",
       "      <td>5.843333</td>\n",
       "      <td>3.054000</td>\n",
       "      <td>3.758667</td>\n",
       "      <td>1.198667</td>\n",
       "    </tr>\n",
       "    <tr>\n",
       "      <th>std</th>\n",
       "      <td>0.828066</td>\n",
       "      <td>0.433594</td>\n",
       "      <td>1.764420</td>\n",
       "      <td>0.763161</td>\n",
       "    </tr>\n",
       "    <tr>\n",
       "      <th>min</th>\n",
       "      <td>4.300000</td>\n",
       "      <td>2.000000</td>\n",
       "      <td>1.000000</td>\n",
       "      <td>0.100000</td>\n",
       "    </tr>\n",
       "    <tr>\n",
       "      <th>25%</th>\n",
       "      <td>5.100000</td>\n",
       "      <td>2.800000</td>\n",
       "      <td>1.600000</td>\n",
       "      <td>0.300000</td>\n",
       "    </tr>\n",
       "    <tr>\n",
       "      <th>50%</th>\n",
       "      <td>5.800000</td>\n",
       "      <td>3.000000</td>\n",
       "      <td>4.350000</td>\n",
       "      <td>1.300000</td>\n",
       "    </tr>\n",
       "    <tr>\n",
       "      <th>75%</th>\n",
       "      <td>6.400000</td>\n",
       "      <td>3.300000</td>\n",
       "      <td>5.100000</td>\n",
       "      <td>1.800000</td>\n",
       "    </tr>\n",
       "    <tr>\n",
       "      <th>max</th>\n",
       "      <td>7.900000</td>\n",
       "      <td>4.400000</td>\n",
       "      <td>6.900000</td>\n",
       "      <td>2.500000</td>\n",
       "    </tr>\n",
       "  </tbody>\n",
       "</table>\n",
       "</div>"
      ]
     },
     "execution_count": 9,
     "metadata": {},
     "output_type": "execute_result"
    }
   ],
   "execution_count": 9
  },
  {
   "metadata": {
    "ExecuteTime": {
     "end_time": "2024-06-16T15:00:56.777625Z",
     "start_time": "2024-06-16T15:00:56.770829Z"
    }
   },
   "cell_type": "code",
   "source": "iris_data.species.describe()",
   "id": "a76f8be7ad1754fd",
   "outputs": [
    {
     "data": {
      "text/plain": [
       "count        150\n",
       "unique         3\n",
       "top       setosa\n",
       "freq          50\n",
       "Name: species, dtype: object"
      ]
     },
     "execution_count": 10,
     "metadata": {},
     "output_type": "execute_result"
    }
   ],
   "execution_count": 10
  },
  {
   "metadata": {
    "ExecuteTime": {
     "end_time": "2024-06-16T15:00:57.085013Z",
     "start_time": "2024-06-16T15:00:57.065255Z"
    }
   },
   "cell_type": "code",
   "source": [
    "# Infos about the dataframe\n",
    "\n",
    "iris_data.info()"
   ],
   "id": "ce3e134592a3081c",
   "outputs": [
    {
     "name": "stdout",
     "output_type": "stream",
     "text": [
      "<class 'pandas.core.frame.DataFrame'>\n",
      "RangeIndex: 150 entries, 0 to 149\n",
      "Data columns (total 5 columns):\n",
      " #   Column        Non-Null Count  Dtype  \n",
      "---  ------        --------------  -----  \n",
      " 0   sepal_length  150 non-null    float64\n",
      " 1   sepal_width   150 non-null    float64\n",
      " 2   petal_length  150 non-null    float64\n",
      " 3   petal_width   150 non-null    float64\n",
      " 4   species       150 non-null    object \n",
      "dtypes: float64(4), object(1)\n",
      "memory usage: 6.0+ KB\n"
     ]
    }
   ],
   "execution_count": 11
  },
  {
   "metadata": {
    "ExecuteTime": {
     "end_time": "2024-06-16T15:00:57.238920Z",
     "start_time": "2024-06-16T15:00:57.233165Z"
    }
   },
   "cell_type": "code",
   "source": [
    "# Checking how many values are NaN or NA\n",
    "\n",
    "iris_data.isnull().sum()"
   ],
   "id": "207e8e91d9e44d5b",
   "outputs": [
    {
     "data": {
      "text/plain": [
       "sepal_length    0\n",
       "sepal_width     0\n",
       "petal_length    0\n",
       "petal_width     0\n",
       "species         0\n",
       "dtype: int64"
      ]
     },
     "execution_count": 12,
     "metadata": {},
     "output_type": "execute_result"
    }
   ],
   "execution_count": 12
  },
  {
   "metadata": {},
   "cell_type": "markdown",
   "source": "## Cleaning The Data",
   "id": "a0d1fa58fb645980"
  },
  {
   "metadata": {
    "ExecuteTime": {
     "end_time": "2024-06-16T15:00:57.411609Z",
     "start_time": "2024-06-16T15:00:57.399558Z"
    }
   },
   "cell_type": "code",
   "source": [
    "# Dropping the duplicates\n",
    "\n",
    "previous_len = len(iris_data)\n",
    "iris_data = iris_data.drop_duplicates()\n",
    "print(f\"{previous_len - len(iris_data)} rows have been dropped because they were duplicates.\")\n",
    "iris_data"
   ],
   "id": "1c0369a4aace509c",
   "outputs": [
    {
     "name": "stdout",
     "output_type": "stream",
     "text": [
      "3 rows have been dropped because they were duplicates.\n"
     ]
    },
    {
     "data": {
      "text/plain": [
       "     sepal_length  sepal_width  petal_length  petal_width    species\n",
       "0             5.1          3.5           1.4          0.2     setosa\n",
       "1             4.9          3.0           1.4          0.2     setosa\n",
       "2             4.7          3.2           1.3          0.2     setosa\n",
       "3             4.6          3.1           1.5          0.2     setosa\n",
       "4             5.0          3.6           1.4          0.2     setosa\n",
       "..            ...          ...           ...          ...        ...\n",
       "145           6.7          3.0           5.2          2.3  virginica\n",
       "146           6.3          2.5           5.0          1.9  virginica\n",
       "147           6.5          3.0           5.2          2.0  virginica\n",
       "148           6.2          3.4           5.4          2.3  virginica\n",
       "149           5.9          3.0           5.1          1.8  virginica\n",
       "\n",
       "[147 rows x 5 columns]"
      ],
      "text/html": [
       "<div>\n",
       "<style scoped>\n",
       "    .dataframe tbody tr th:only-of-type {\n",
       "        vertical-align: middle;\n",
       "    }\n",
       "\n",
       "    .dataframe tbody tr th {\n",
       "        vertical-align: top;\n",
       "    }\n",
       "\n",
       "    .dataframe thead th {\n",
       "        text-align: right;\n",
       "    }\n",
       "</style>\n",
       "<table border=\"1\" class=\"dataframe\">\n",
       "  <thead>\n",
       "    <tr style=\"text-align: right;\">\n",
       "      <th></th>\n",
       "      <th>sepal_length</th>\n",
       "      <th>sepal_width</th>\n",
       "      <th>petal_length</th>\n",
       "      <th>petal_width</th>\n",
       "      <th>species</th>\n",
       "    </tr>\n",
       "  </thead>\n",
       "  <tbody>\n",
       "    <tr>\n",
       "      <th>0</th>\n",
       "      <td>5.1</td>\n",
       "      <td>3.5</td>\n",
       "      <td>1.4</td>\n",
       "      <td>0.2</td>\n",
       "      <td>setosa</td>\n",
       "    </tr>\n",
       "    <tr>\n",
       "      <th>1</th>\n",
       "      <td>4.9</td>\n",
       "      <td>3.0</td>\n",
       "      <td>1.4</td>\n",
       "      <td>0.2</td>\n",
       "      <td>setosa</td>\n",
       "    </tr>\n",
       "    <tr>\n",
       "      <th>2</th>\n",
       "      <td>4.7</td>\n",
       "      <td>3.2</td>\n",
       "      <td>1.3</td>\n",
       "      <td>0.2</td>\n",
       "      <td>setosa</td>\n",
       "    </tr>\n",
       "    <tr>\n",
       "      <th>3</th>\n",
       "      <td>4.6</td>\n",
       "      <td>3.1</td>\n",
       "      <td>1.5</td>\n",
       "      <td>0.2</td>\n",
       "      <td>setosa</td>\n",
       "    </tr>\n",
       "    <tr>\n",
       "      <th>4</th>\n",
       "      <td>5.0</td>\n",
       "      <td>3.6</td>\n",
       "      <td>1.4</td>\n",
       "      <td>0.2</td>\n",
       "      <td>setosa</td>\n",
       "    </tr>\n",
       "    <tr>\n",
       "      <th>...</th>\n",
       "      <td>...</td>\n",
       "      <td>...</td>\n",
       "      <td>...</td>\n",
       "      <td>...</td>\n",
       "      <td>...</td>\n",
       "    </tr>\n",
       "    <tr>\n",
       "      <th>145</th>\n",
       "      <td>6.7</td>\n",
       "      <td>3.0</td>\n",
       "      <td>5.2</td>\n",
       "      <td>2.3</td>\n",
       "      <td>virginica</td>\n",
       "    </tr>\n",
       "    <tr>\n",
       "      <th>146</th>\n",
       "      <td>6.3</td>\n",
       "      <td>2.5</td>\n",
       "      <td>5.0</td>\n",
       "      <td>1.9</td>\n",
       "      <td>virginica</td>\n",
       "    </tr>\n",
       "    <tr>\n",
       "      <th>147</th>\n",
       "      <td>6.5</td>\n",
       "      <td>3.0</td>\n",
       "      <td>5.2</td>\n",
       "      <td>2.0</td>\n",
       "      <td>virginica</td>\n",
       "    </tr>\n",
       "    <tr>\n",
       "      <th>148</th>\n",
       "      <td>6.2</td>\n",
       "      <td>3.4</td>\n",
       "      <td>5.4</td>\n",
       "      <td>2.3</td>\n",
       "      <td>virginica</td>\n",
       "    </tr>\n",
       "    <tr>\n",
       "      <th>149</th>\n",
       "      <td>5.9</td>\n",
       "      <td>3.0</td>\n",
       "      <td>5.1</td>\n",
       "      <td>1.8</td>\n",
       "      <td>virginica</td>\n",
       "    </tr>\n",
       "  </tbody>\n",
       "</table>\n",
       "<p>147 rows × 5 columns</p>\n",
       "</div>"
      ]
     },
     "execution_count": 13,
     "metadata": {},
     "output_type": "execute_result"
    }
   ],
   "execution_count": 13
  },
  {
   "metadata": {},
   "cell_type": "markdown",
   "source": "## Analyzing The Data",
   "id": "d05847514c5ecc03"
  },
  {
   "metadata": {
    "ExecuteTime": {
     "end_time": "2024-06-16T15:00:57.933885Z",
     "start_time": "2024-06-16T15:00:57.505632Z"
    }
   },
   "cell_type": "code",
   "source": [
    "# Relationship between species and sepals\n",
    "\n",
    "with pd.option_context('mode.use_inf_as_na', True):\n",
    "    sns.scatterplot(iris_data, x=iris_data.sepal_length, y=iris_data.sepal_width, hue=iris_data.species)\n",
    "    plt.title(\"Relationship between species and sepals\")\n",
    "    plt.xlabel(\"sepal lengths\")\n",
    "    plt.ylabel(\"sepal widths\")"
   ],
   "id": "9837c77c3f393504",
   "outputs": [
    {
     "name": "stderr",
     "output_type": "stream",
     "text": [
      "C:\\Users\\Leo\\AppData\\Local\\Temp\\ipykernel_6948\\1322984898.py:3: FutureWarning: use_inf_as_na option is deprecated and will be removed in a future version. Convert inf values to NaN before operating instead.\n",
      "  with pd.option_context('mode.use_inf_as_na', True):\n"
     ]
    },
    {
     "data": {
      "text/plain": [
       "<Figure size 640x480 with 1 Axes>"
      ],
      "image/png": "[encoded data removed]"
     },
     "metadata": {},
     "output_type": "display_data"
    }
   ],
   "execution_count": 14
  },
  {
   "metadata": {
    "ExecuteTime": {
     "end_time": "2024-06-16T15:00:58.246259Z",
     "start_time": "2024-06-16T15:00:57.935426Z"
    }
   },
   "cell_type": "code",
   "source": [
    "# Relationship between species and petals\n",
    "\n",
    "with pd.option_context('mode.use_inf_as_na', True):\n",
    "    sns.scatterplot(iris_data, x=iris_data.petal_length, y=iris_data.petal_width, hue=iris_data.species)\n",
    "    plt.title(\"Relationship between species and petals\")\n",
    "    plt.xlabel(\"petals lengths\")\n",
    "    plt.ylabel(\"petals widths\")"
   ],
   "id": "bc1b7e1a7f7fc572",
   "outputs": [
    {
     "name": "stderr",
     "output_type": "stream",
     "text": [
      "C:\\Users\\Leo\\AppData\\Local\\Temp\\ipykernel_6948\\985043559.py:3: FutureWarning: use_inf_as_na option is deprecated and will be removed in a future version. Convert inf values to NaN before operating instead.\n",
      "  with pd.option_context('mode.use_inf_as_na', True):\n"
     ]
    },
    {
     "data": {
      "text/plain": [
       "<Figure size 640x480 with 1 Axes>"
      ],
      "image/png": "[encoded data removed]"
     },
     "metadata": {},
     "output_type": "display_data"
    }
   ],
   "execution_count": 15
  },
  {
   "metadata": {
    "ExecuteTime": {
     "end_time": "2024-06-16T15:00:58.251278Z",
     "start_time": "2024-06-16T15:00:58.247264Z"
    }
   },
   "cell_type": "code",
   "source": [
    "# Grouping the data by the key \"species\"\n",
    "\n",
    "species_data = iris_data.groupby(\"species\")"
   ],
   "id": "b77786866e62d112",
   "outputs": [],
   "execution_count": 16
  },
  {
   "metadata": {
    "ExecuteTime": {
     "end_time": "2024-06-16T15:00:58.265145Z",
     "start_time": "2024-06-16T15:00:58.253805Z"
    }
   },
   "cell_type": "code",
   "source": [
    "# Minimums of the data set, grouped by species\n",
    "\n",
    "species_data.min()"
   ],
   "id": "9ab04adfeb9c5904",
   "outputs": [
    {
     "data": {
      "text/plain": [
       "            sepal_length  sepal_width  petal_length  petal_width\n",
       "species                                                         \n",
       "setosa               4.3          2.3           1.0          0.1\n",
       "versicolor           4.9          2.0           3.0          1.0\n",
       "virginica            4.9          2.2           4.5          1.4"
      ],
      "text/html": [
       "<div>\n",
       "<style scoped>\n",
       "    .dataframe tbody tr th:only-of-type {\n",
       "        vertical-align: middle;\n",
       "    }\n",
       "\n",
       "    .dataframe tbody tr th {\n",
       "        vertical-align: top;\n",
       "    }\n",
       "\n",
       "    .dataframe thead th {\n",
       "        text-align: right;\n",
       "    }\n",
       "</style>\n",
       "<table border=\"1\" class=\"dataframe\">\n",
       "  <thead>\n",
       "    <tr style=\"text-align: right;\">\n",
       "      <th></th>\n",
       "      <th>sepal_length</th>\n",
       "      <th>sepal_width</th>\n",
       "      <th>petal_length</th>\n",
       "      <th>petal_width</th>\n",
       "    </tr>\n",
       "    <tr>\n",
       "      <th>species</th>\n",
       "      <th></th>\n",
       "      <th></th>\n",
       "      <th></th>\n",
       "      <th></th>\n",
       "    </tr>\n",
       "  </thead>\n",
       "  <tbody>\n",
       "    <tr>\n",
       "      <th>setosa</th>\n",
       "      <td>4.3</td>\n",
       "      <td>2.3</td>\n",
       "      <td>1.0</td>\n",
       "      <td>0.1</td>\n",
       "    </tr>\n",
       "    <tr>\n",
       "      <th>versicolor</th>\n",
       "      <td>4.9</td>\n",
       "      <td>2.0</td>\n",
       "      <td>3.0</td>\n",
       "      <td>1.0</td>\n",
       "    </tr>\n",
       "    <tr>\n",
       "      <th>virginica</th>\n",
       "      <td>4.9</td>\n",
       "      <td>2.2</td>\n",
       "      <td>4.5</td>\n",
       "      <td>1.4</td>\n",
       "    </tr>\n",
       "  </tbody>\n",
       "</table>\n",
       "</div>"
      ]
     },
     "execution_count": 17,
     "metadata": {},
     "output_type": "execute_result"
    }
   ],
   "execution_count": 17
  },
  {
   "metadata": {
    "ExecuteTime": {
     "end_time": "2024-06-16T15:00:58.276846Z",
     "start_time": "2024-06-16T15:00:58.266153Z"
    }
   },
   "cell_type": "code",
   "source": [
    "# Maximums of the data set, grouped by species\n",
    "\n",
    "species_data.max()"
   ],
   "id": "8062357a18eee6eb",
   "outputs": [
    {
     "data": {
      "text/plain": [
       "            sepal_length  sepal_width  petal_length  petal_width\n",
       "species                                                         \n",
       "setosa               5.8          4.4           1.9          0.6\n",
       "versicolor           7.0          3.4           5.1          1.8\n",
       "virginica            7.9          3.8           6.9          2.5"
      ],
      "text/html": [
       "<div>\n",
       "<style scoped>\n",
       "    .dataframe tbody tr th:only-of-type {\n",
       "        vertical-align: middle;\n",
       "    }\n",
       "\n",
       "    .dataframe tbody tr th {\n",
       "        vertical-align: top;\n",
       "    }\n",
       "\n",
       "    .dataframe thead th {\n",
       "        text-align: right;\n",
       "    }\n",
       "</style>\n",
       "<table border=\"1\" class=\"dataframe\">\n",
       "  <thead>\n",
       "    <tr style=\"text-align: right;\">\n",
       "      <th></th>\n",
       "      <th>sepal_length</th>\n",
       "      <th>sepal_width</th>\n",
       "      <th>petal_length</th>\n",
       "      <th>petal_width</th>\n",
       "    </tr>\n",
       "    <tr>\n",
       "      <th>species</th>\n",
       "      <th></th>\n",
       "      <th></th>\n",
       "      <th></th>\n",
       "      <th></th>\n",
       "    </tr>\n",
       "  </thead>\n",
       "  <tbody>\n",
       "    <tr>\n",
       "      <th>setosa</th>\n",
       "      <td>5.8</td>\n",
       "      <td>4.4</td>\n",
       "      <td>1.9</td>\n",
       "      <td>0.6</td>\n",
       "    </tr>\n",
       "    <tr>\n",
       "      <th>versicolor</th>\n",
       "      <td>7.0</td>\n",
       "      <td>3.4</td>\n",
       "      <td>5.1</td>\n",
       "      <td>1.8</td>\n",
       "    </tr>\n",
       "    <tr>\n",
       "      <th>virginica</th>\n",
       "      <td>7.9</td>\n",
       "      <td>3.8</td>\n",
       "      <td>6.9</td>\n",
       "      <td>2.5</td>\n",
       "    </tr>\n",
       "  </tbody>\n",
       "</table>\n",
       "</div>"
      ]
     },
     "execution_count": 18,
     "metadata": {},
     "output_type": "execute_result"
    }
   ],
   "execution_count": 18
  },
  {
   "metadata": {
    "ExecuteTime": {
     "end_time": "2024-06-16T15:00:58.286197Z",
     "start_time": "2024-06-16T15:00:58.277709Z"
    }
   },
   "cell_type": "code",
   "source": [
    "# Averages of the data set, grouped by species\n",
    "\n",
    "species_data.mean()"
   ],
   "id": "105ff2e8d2b3fdc7",
   "outputs": [
    {
     "data": {
      "text/plain": [
       "            sepal_length  sepal_width  petal_length  petal_width\n",
       "species                                                         \n",
       "setosa          5.010417     3.431250      1.462500     0.250000\n",
       "versicolor      5.936000     2.770000      4.260000     1.326000\n",
       "virginica       6.604082     2.979592      5.561224     2.028571"
      ],
      "text/html": [
       "<div>\n",
       "<style scoped>\n",
       "    .dataframe tbody tr th:only-of-type {\n",
       "        vertical-align: middle;\n",
       "    }\n",
       "\n",
       "    .dataframe tbody tr th {\n",
       "        vertical-align: top;\n",
       "    }\n",
       "\n",
       "    .dataframe thead th {\n",
       "        text-align: right;\n",
       "    }\n",
       "</style>\n",
       "<table border=\"1\" class=\"dataframe\">\n",
       "  <thead>\n",
       "    <tr style=\"text-align: right;\">\n",
       "      <th></th>\n",
       "      <th>sepal_length</th>\n",
       "      <th>sepal_width</th>\n",
       "      <th>petal_length</th>\n",
       "      <th>petal_width</th>\n",
       "    </tr>\n",
       "    <tr>\n",
       "      <th>species</th>\n",
       "      <th></th>\n",
       "      <th></th>\n",
       "      <th></th>\n",
       "      <th></th>\n",
       "    </tr>\n",
       "  </thead>\n",
       "  <tbody>\n",
       "    <tr>\n",
       "      <th>setosa</th>\n",
       "      <td>5.010417</td>\n",
       "      <td>3.431250</td>\n",
       "      <td>1.462500</td>\n",
       "      <td>0.250000</td>\n",
       "    </tr>\n",
       "    <tr>\n",
       "      <th>versicolor</th>\n",
       "      <td>5.936000</td>\n",
       "      <td>2.770000</td>\n",
       "      <td>4.260000</td>\n",
       "      <td>1.326000</td>\n",
       "    </tr>\n",
       "    <tr>\n",
       "      <th>virginica</th>\n",
       "      <td>6.604082</td>\n",
       "      <td>2.979592</td>\n",
       "      <td>5.561224</td>\n",
       "      <td>2.028571</td>\n",
       "    </tr>\n",
       "  </tbody>\n",
       "</table>\n",
       "</div>"
      ]
     },
     "execution_count": 19,
     "metadata": {},
     "output_type": "execute_result"
    }
   ],
   "execution_count": 19
  },
  {
   "metadata": {
    "ExecuteTime": {
     "end_time": "2024-06-16T15:00:58.293224Z",
     "start_time": "2024-06-16T15:00:58.287204Z"
    }
   },
   "cell_type": "code",
   "source": [
    "def find_real_leaf_index(by: str, params: tuple, df: pd.DataFrame) -> int:\n",
    "    df['area'] = df[params[0]] * df[params[1]]\n",
    "    largest_index = df['area'].idxmax()\n",
    "    \n",
    "    match by:\n",
    "        case \"max\":\n",
    "            return df['area'].idxmax()\n",
    "        case \"min\":\n",
    "            return df['area'].idxmin()"
   ],
   "id": "4d38ba17e2861f96",
   "outputs": [],
   "execution_count": 20
  },
  {
   "metadata": {
    "ExecuteTime": {
     "end_time": "2024-06-16T15:00:58.299377Z",
     "start_time": "2024-06-16T15:00:58.294230Z"
    }
   },
   "cell_type": "code",
   "source": "petal_data = iris_data[[\"petal_width\", \"petal_length\", \"species\"]]",
   "id": "ac8bb720627af82b",
   "outputs": [],
   "execution_count": 21
  },
  {
   "metadata": {
    "ExecuteTime": {
     "end_time": "2024-06-16T15:00:58.505653Z",
     "start_time": "2024-06-16T15:00:58.496760Z"
    }
   },
   "cell_type": "code",
   "source": [
    "# Locating the largest real petal leaf\n",
    "\n",
    "petal_data.iloc[find_real_leaf_index(by=\"max\", params=(\"petal_length\", \"petal_width\"), df=petal_data)]"
   ],
   "id": "329b95d4ea58e7",
   "outputs": [
    {
     "name": "stderr",
     "output_type": "stream",
     "text": [
      "C:\\Users\\Leo\\AppData\\Local\\Temp\\ipykernel_6948\\3822807787.py:2: SettingWithCopyWarning: \n",
      "A value is trying to be set on a copy of a slice from a DataFrame.\n",
      "Try using .loc[row_indexer,col_indexer] = value instead\n",
      "\n",
      "See the caveats in the documentation: https://pandas.pydata.org/pandas-docs/stable/user_guide/indexing.html#returning-a-view-versus-a-copy\n",
      "  df['area'] = df[params[0]] * df[params[1]]\n"
     ]
    },
    {
     "data": {
      "text/plain": [
       "petal_width           2.3\n",
       "petal_length          5.7\n",
       "species         virginica\n",
       "area                13.11\n",
       "Name: 120, dtype: object"
      ]
     },
     "execution_count": 22,
     "metadata": {},
     "output_type": "execute_result"
    }
   ],
   "execution_count": 22
  },
  {
   "metadata": {
    "ExecuteTime": {
     "end_time": "2024-06-16T15:00:58.584113Z",
     "start_time": "2024-06-16T15:00:58.578157Z"
    }
   },
   "cell_type": "code",
   "source": [
    "# Locating the smallest real petal leaf\n",
    "\n",
    "petal_data.iloc[find_real_leaf_index(by=\"min\", params=(\"petal_length\", \"petal_width\"), df=petal_data)]"
   ],
   "id": "c6d35546dd982b70",
   "outputs": [
    {
     "name": "stderr",
     "output_type": "stream",
     "text": [
      "C:\\Users\\Leo\\AppData\\Local\\Temp\\ipykernel_6948\\3822807787.py:2: SettingWithCopyWarning: \n",
      "A value is trying to be set on a copy of a slice from a DataFrame.\n",
      "Try using .loc[row_indexer,col_indexer] = value instead\n",
      "\n",
      "See the caveats in the documentation: https://pandas.pydata.org/pandas-docs/stable/user_guide/indexing.html#returning-a-view-versus-a-copy\n",
      "  df['area'] = df[params[0]] * df[params[1]]\n"
     ]
    },
    {
     "data": {
      "text/plain": [
       "petal_width        0.1\n",
       "petal_length       1.1\n",
       "species         setosa\n",
       "area              0.11\n",
       "Name: 13, dtype: object"
      ]
     },
     "execution_count": 23,
     "metadata": {},
     "output_type": "execute_result"
    }
   ],
   "execution_count": 23
  },
  {
   "metadata": {
    "ExecuteTime": {
     "end_time": "2024-06-16T15:17:04.479478Z",
     "start_time": "2024-06-16T15:17:04.475071Z"
    }
   },
   "cell_type": "code",
   "source": "sepal_data = iris_data[[\"sepal_width\", \"sepal_length\", \"species\"]]",
   "id": "80fc6faa7f37a241",
   "outputs": [],
   "execution_count": 25
  },
  {
   "metadata": {
    "ExecuteTime": {
     "end_time": "2024-06-16T15:17:06.982259Z",
     "start_time": "2024-06-16T15:17:06.975942Z"
    }
   },
   "cell_type": "code",
   "source": [
    "# Locating the largest real sepal leaf\n",
    "\n",
    "sepal_data.iloc[find_real_leaf_index(by=\"max\", params=(\"sepal_length\", \"sepal_width\"), df=sepal_data)]"
   ],
   "id": "e90fe70d760bb608",
   "outputs": [
    {
     "name": "stderr",
     "output_type": "stream",
     "text": [
      "C:\\Users\\Leo\\AppData\\Local\\Temp\\ipykernel_6948\\3822807787.py:2: SettingWithCopyWarning: \n",
      "A value is trying to be set on a copy of a slice from a DataFrame.\n",
      "Try using .loc[row_indexer,col_indexer] = value instead\n",
      "\n",
      "See the caveats in the documentation: https://pandas.pydata.org/pandas-docs/stable/user_guide/indexing.html#returning-a-view-versus-a-copy\n",
      "  df['area'] = df[params[0]] * df[params[1]]\n"
     ]
    },
    {
     "data": {
      "text/plain": [
       "sepal_width           2.8\n",
       "sepal_length          6.3\n",
       "species         virginica\n",
       "area                17.64\n",
       "Name: 133, dtype: object"
      ]
     },
     "execution_count": 26,
     "metadata": {},
     "output_type": "execute_result"
    }
   ],
   "execution_count": 26
  },
  {
   "metadata": {
    "ExecuteTime": {
     "end_time": "2024-06-16T15:17:09.913578Z",
     "start_time": "2024-06-16T15:17:09.907110Z"
    }
   },
   "cell_type": "code",
   "source": [
    "# Locating the smallest real sepal leaf\n",
    "\n",
    "sepal_data.iloc[find_real_leaf_index(by=\"min\", params=(\"sepal_length\", \"sepal_width\"), df=sepal_data)]"
   ],
   "id": "6d98bc4f2b2a6629",
   "outputs": [
    {
     "name": "stderr",
     "output_type": "stream",
     "text": [
      "C:\\Users\\Leo\\AppData\\Local\\Temp\\ipykernel_6948\\3822807787.py:2: SettingWithCopyWarning: \n",
      "A value is trying to be set on a copy of a slice from a DataFrame.\n",
      "Try using .loc[row_indexer,col_indexer] = value instead\n",
      "\n",
      "See the caveats in the documentation: https://pandas.pydata.org/pandas-docs/stable/user_guide/indexing.html#returning-a-view-versus-a-copy\n",
      "  df['area'] = df[params[0]] * df[params[1]]\n"
     ]
    },
    {
     "data": {
      "text/plain": [
       "sepal_width            2.2\n",
       "sepal_length           6.0\n",
       "species         versicolor\n",
       "area                  13.2\n",
       "Name: 62, dtype: object"
      ]
     },
     "execution_count": 27,
     "metadata": {},
     "output_type": "execute_result"
    }
   ],
   "execution_count": 27
  },
  {
   "metadata": {},
   "cell_type": "markdown",
   "source": [
    "## Schlussfolgerungen\n",
    "\n",
    "<u>Allgemein:</u><br>\n",
    "Die vorliegenden Daten umfassen die statistischen Kennzahlen für die Merkmale der Kelchblätter und Blütenblätter von insgesamt 147 Beobachtungen. Die Kelchblätter weisen eine durchschnittliche Länge von 5,9cm auf, wobei die Länge zwischen 4,3cm und 7,9cm variiert. Die Breite der Kelchblätter beträgt im Durchschnitt 3,1cm und variiert zwischen 2,0cm und 4,4cm. Die Blütenblätter haben eine durchschnittliche Länge von 3,8cm, wobei die gemessenen Längen zwischen 1,0cm und 6,9cm liegen. Die Breite der Blütenblätter beträgt im Mittel 1,2cm und variiert von 0,1cm bis 2,5cm.\n",
    "\n",
    "<u>Blütenblätter:</u><br>\n",
    "<br>\n",
    "<img src=\"output/petals.png\" alt=\"alt text\" width=\"500\" height=\"auto\">\n",
    "\n",
    "Die durchschnittliche Breite der Blütenblätter liegt bei 1,20cm und die durchschnittliche Länge bei 3,78cm. Das Maximum liegt bei einer Länge von 6,9cm und einer Breite von 2,5cm, während das Minimum bei einer Länge von 1,0cm und einer Breite von 0,1cm liegt. Hierbei ist anzumerken, dass es sich dabei nicht um tatsächlich gemessene Blumen, sondern den statistischen Durchschnitt handelt.\n",
    "<br>\n",
    "Bei der größten Blume handelt es sich um die Blume mit der ID 120. Diese hat eine Länge von 5,7cm und eine Breite von 2,3cm. Ihre Spezies ist eine *verginica*. Bei der kleinsten Blume handelt es sich um die Blume der Spezies *setosa* mit der ID 13. Sie ist gerade einmal 0,1cm breit und 1,1cm lang.\n",
    "1. Die Blütenblätter der Spezies *virginica* sind besonders groß (sowohl in der Länge, als auch in der Breite). Durchschnittlich ist ein Blütenblatt circa 5,56cm lang und 2,02cm breit. Ihre Blütenblätter erreichen eine maximale Länge von 6,9cm und eine maximale Breite von 2.5cm. Auch die minimalen Werte (4,5cm lang, 1,5cm breit) befinden sich deutlich oberhalb der anderen Spezies.\n",
    "2. Die Spezies *versicolor* gliedert sich in der Mitte ein. Sie erreicht maximale Größen von 5,1cm in der Länge und 1,8cm in der Breite. Mit einer minimalen Länge von 3,0cm und einer minimalen Breite von 1,0 reiht sie sich zwischen *virginica* und *setosa* ein. Durchschnittlich werden ihre Blütenblätter 4,26cm lang und 1,32cm breit.\n",
    "3. Bei der Spezies mit den kleinsten Blütenblättern handelt es sich um die Spezies *setosa*. Mit einer durchschnittlichen Länge von 1,46cm und einer durchschnittlichen Breite von 0,25cm liegt sie deutlich unterhalb des allgemeinen Durchschnitts. Sie erreicht maximale Größen von 1,9cm in der Länge und 0,6cm in der Breite. Das kleine Blütenblatt dieser Spezies hat eine Größe von 1,0cm in der Länge und gerade einmal 0,1cm in der Breite.\n",
    "\n",
    "<u>Kelchblätter:</u><br>\n",
    "<br>\n",
    "<img src=\"output/sepals.png\" alt=\"alt text\" width=\"500\" height=\"auto\">\n",
    "\n",
    "Die durchschnittliche Breite der Kelchblätter liegt bei 3,05cm und die durchschnittliche Länge bei 5,85cm. Das Maximum liegt bei einer Länge von 7,9cm und einer Breite von 4,4cm, während das Minimum bei einer Länge von 4,3cm und einer Breite von 2cm liegt. Hierbei ist anzumerken, dass es sich dabei nicht um tatsächlich gemessene Blumen, sondern den statistischen Durchschnitt handelt.\n",
    "<br>\n",
    "Die größte Blume basiert auf ihrer Blütenkrone und gehört zur ID 133. Diese Blume misst 6,3 cm in der Länge und 2,8 cm in der Breite. Es handelt sich um eine verginica Spezies. Die kleinste Blume gehört zur Spezies versicolor und hat die ID 62. Sie ist nur 2,2 cm breit und 6,0 cm lang.\n",
    "<br>\n",
    "Im Gegensatz zu den Größen der Blütenblättern kann man keine wirklich großen Unterschiede erkennen. \n",
    "1. Die Blütenblätter der Spezies *setosa* sind besonders breit aber auch besonders kurz. Durchschnittlich ist ein Blütenblatt circa 3,43cm breit, aber nur 5,01cm lang. Ihre Blütenblätter erreichen eine maximale Breite 4,4cm bei einer Länge von 5,8cm. Die minimale Breite liegt bei 2,3cm und die minimale Länge bei 4,3cm. \n",
    "2. Die Spezies *verginica* und *versicolor* befinden sind im gleichen Bereich, wobei die Spezies *virginica* ein wenig länger wird. Beide Spezies sind weniger breit als *setosa*, aber deutlich länger. Die Art *versicolor* zeichnet sich durch eine minimale Breite von 2,0cm und eine maximale Länge von 7,0cm aus. Im Durchschnitt beträgt ihre Breite 2,8cm und ihre Länge 5,9cm. Im Vergleich dazu zeigt die Art *virginica* eine minimale Breite von 2,2cm und eine maximale Länge von 7,9cm. Die durchschnittliche Breite von *virginica* liegt bei 3,0cm, während ihre durchschnittliche Länge 6,6cm beträgt."
   ],
   "id": "e22e68e13165ba32"
  },
  {
   "metadata": {
    "ExecuteTime": {
     "end_time": "2024-06-16T15:00:58.705493Z",
     "start_time": "2024-06-16T15:00:58.692912Z"
    }
   },
   "cell_type": "code",
   "source": "iris_data.describe()",
   "id": "e9eb6357294293e5",
   "outputs": [
    {
     "data": {
      "text/plain": [
       "       sepal_length  sepal_width  petal_length  petal_width\n",
       "count    147.000000   147.000000    147.000000   147.000000\n",
       "mean       5.856463     3.055782      3.780272     1.208844\n",
       "std        0.829100     0.437009      1.759111     0.757874\n",
       "min        4.300000     2.000000      1.000000     0.100000\n",
       "25%        5.100000     2.800000      1.600000     0.300000\n",
       "50%        5.800000     3.000000      4.400000     1.300000\n",
       "75%        6.400000     3.300000      5.100000     1.800000\n",
       "max        7.900000     4.400000      6.900000     2.500000"
      ],
      "text/html": [
       "<div>\n",
       "<style scoped>\n",
       "    .dataframe tbody tr th:only-of-type {\n",
       "        vertical-align: middle;\n",
       "    }\n",
       "\n",
       "    .dataframe tbody tr th {\n",
       "        vertical-align: top;\n",
       "    }\n",
       "\n",
       "    .dataframe thead th {\n",
       "        text-align: right;\n",
       "    }\n",
       "</style>\n",
       "<table border=\"1\" class=\"dataframe\">\n",
       "  <thead>\n",
       "    <tr style=\"text-align: right;\">\n",
       "      <th></th>\n",
       "      <th>sepal_length</th>\n",
       "      <th>sepal_width</th>\n",
       "      <th>petal_length</th>\n",
       "      <th>petal_width</th>\n",
       "    </tr>\n",
       "  </thead>\n",
       "  <tbody>\n",
       "    <tr>\n",
       "      <th>count</th>\n",
       "      <td>147.000000</td>\n",
       "      <td>147.000000</td>\n",
       "      <td>147.000000</td>\n",
       "      <td>147.000000</td>\n",
       "    </tr>\n",
       "    <tr>\n",
       "      <th>mean</th>\n",
       "      <td>5.856463</td>\n",
       "      <td>3.055782</td>\n",
       "      <td>3.780272</td>\n",
       "      <td>1.208844</td>\n",
       "    </tr>\n",
       "    <tr>\n",
       "      <th>std</th>\n",
       "      <td>0.829100</td>\n",
       "      <td>0.437009</td>\n",
       "      <td>1.759111</td>\n",
       "      <td>0.757874</td>\n",
       "    </tr>\n",
       "    <tr>\n",
       "      <th>min</th>\n",
       "      <td>4.300000</td>\n",
       "      <td>2.000000</td>\n",
       "      <td>1.000000</td>\n",
       "      <td>0.100000</td>\n",
       "    </tr>\n",
       "    <tr>\n",
       "      <th>25%</th>\n",
       "      <td>5.100000</td>\n",
       "      <td>2.800000</td>\n",
       "      <td>1.600000</td>\n",
       "      <td>0.300000</td>\n",
       "    </tr>\n",
       "    <tr>\n",
       "      <th>50%</th>\n",
       "      <td>5.800000</td>\n",
       "      <td>3.000000</td>\n",
       "      <td>4.400000</td>\n",
       "      <td>1.300000</td>\n",
       "    </tr>\n",
       "    <tr>\n",
       "      <th>75%</th>\n",
       "      <td>6.400000</td>\n",
       "      <td>3.300000</td>\n",
       "      <td>5.100000</td>\n",
       "      <td>1.800000</td>\n",
       "    </tr>\n",
       "    <tr>\n",
       "      <th>max</th>\n",
       "      <td>7.900000</td>\n",
       "      <td>4.400000</td>\n",
       "      <td>6.900000</td>\n",
       "      <td>2.500000</td>\n",
       "    </tr>\n",
       "  </tbody>\n",
       "</table>\n",
       "</div>"
      ]
     },
     "execution_count": 24,
     "metadata": {},
     "output_type": "execute_result"
    }
   ],
   "execution_count": 24
  }
 ],
 "metadata": {
  "kernelspec": {
   "display_name": "Python 3 (ipykernel)",
   "language": "python",
   "name": "python3"
  },
  "language_info": {
   "codemirror_mode": {
    "name": "ipython",
    "version": 3
   },
   "file_extension": ".py",
   "mimetype": "text/x-python",
   "name": "python",
   "nbconvert_exporter": "python",
   "pygments_lexer": "ipython3",
   "version": "3.12.3"
  }
 },
 "nbformat": 4,
 "nbformat_minor": 5
}
